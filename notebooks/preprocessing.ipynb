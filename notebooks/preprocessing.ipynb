{
 "cells": [
  {
   "cell_type": "code",
   "execution_count": 1,
   "id": "9e52d0f8",
   "metadata": {},
   "outputs": [
    {
     "name": "stdout",
     "output_type": "stream",
     "text": [
      "Requirement already satisfied: pandas in d:\\kaim\\customer-experience-analytics-for-banking-apps\\env\\lib\\site-packages (2.3.0)\n",
      "Requirement already satisfied: numpy>=1.23.2 in d:\\kaim\\customer-experience-analytics-for-banking-apps\\env\\lib\\site-packages (from pandas) (2.3.0)\n",
      "Requirement already satisfied: python-dateutil>=2.8.2 in d:\\kaim\\customer-experience-analytics-for-banking-apps\\env\\lib\\site-packages (from pandas) (2.9.0.post0)\n",
      "Requirement already satisfied: pytz>=2020.1 in d:\\kaim\\customer-experience-analytics-for-banking-apps\\env\\lib\\site-packages (from pandas) (2025.2)\n",
      "Requirement already satisfied: tzdata>=2022.7 in d:\\kaim\\customer-experience-analytics-for-banking-apps\\env\\lib\\site-packages (from pandas) (2025.2)\n",
      "Requirement already satisfied: six>=1.5 in d:\\kaim\\customer-experience-analytics-for-banking-apps\\env\\lib\\site-packages (from python-dateutil>=2.8.2->pandas) (1.17.0)\n",
      "Requirement already satisfied: seaborn in d:\\kaim\\customer-experience-analytics-for-banking-apps\\env\\lib\\site-packages (0.13.2)\n",
      "Requirement already satisfied: numpy!=1.24.0,>=1.20 in d:\\kaim\\customer-experience-analytics-for-banking-apps\\env\\lib\\site-packages (from seaborn) (2.3.0)\n",
      "Requirement already satisfied: pandas>=1.2 in d:\\kaim\\customer-experience-analytics-for-banking-apps\\env\\lib\\site-packages (from seaborn) (2.3.0)\n",
      "Requirement already satisfied: matplotlib!=3.6.1,>=3.4 in d:\\kaim\\customer-experience-analytics-for-banking-apps\\env\\lib\\site-packages (from seaborn) (3.10.3)\n",
      "Requirement already satisfied: contourpy>=1.0.1 in d:\\kaim\\customer-experience-analytics-for-banking-apps\\env\\lib\\site-packages (from matplotlib!=3.6.1,>=3.4->seaborn) (1.3.2)\n",
      "Requirement already satisfied: cycler>=0.10 in d:\\kaim\\customer-experience-analytics-for-banking-apps\\env\\lib\\site-packages (from matplotlib!=3.6.1,>=3.4->seaborn) (0.12.1)\n",
      "Requirement already satisfied: fonttools>=4.22.0 in d:\\kaim\\customer-experience-analytics-for-banking-apps\\env\\lib\\site-packages (from matplotlib!=3.6.1,>=3.4->seaborn) (4.58.2)\n",
      "Requirement already satisfied: kiwisolver>=1.3.1 in d:\\kaim\\customer-experience-analytics-for-banking-apps\\env\\lib\\site-packages (from matplotlib!=3.6.1,>=3.4->seaborn) (1.4.8)\n",
      "Requirement already satisfied: packaging>=20.0 in d:\\kaim\\customer-experience-analytics-for-banking-apps\\env\\lib\\site-packages (from matplotlib!=3.6.1,>=3.4->seaborn) (25.0)\n",
      "Requirement already satisfied: pillow>=8 in d:\\kaim\\customer-experience-analytics-for-banking-apps\\env\\lib\\site-packages (from matplotlib!=3.6.1,>=3.4->seaborn) (11.2.1)\n",
      "Requirement already satisfied: pyparsing>=2.3.1 in d:\\kaim\\customer-experience-analytics-for-banking-apps\\env\\lib\\site-packages (from matplotlib!=3.6.1,>=3.4->seaborn) (3.2.3)\n",
      "Requirement already satisfied: python-dateutil>=2.7 in d:\\kaim\\customer-experience-analytics-for-banking-apps\\env\\lib\\site-packages (from matplotlib!=3.6.1,>=3.4->seaborn) (2.9.0.post0)\n",
      "Requirement already satisfied: pytz>=2020.1 in d:\\kaim\\customer-experience-analytics-for-banking-apps\\env\\lib\\site-packages (from pandas>=1.2->seaborn) (2025.2)\n",
      "Requirement already satisfied: tzdata>=2022.7 in d:\\kaim\\customer-experience-analytics-for-banking-apps\\env\\lib\\site-packages (from pandas>=1.2->seaborn) (2025.2)\n",
      "Requirement already satisfied: six>=1.5 in d:\\kaim\\customer-experience-analytics-for-banking-apps\\env\\lib\\site-packages (from python-dateutil>=2.7->matplotlib!=3.6.1,>=3.4->seaborn) (1.17.0)\n",
      "Requirement already satisfied: matplotlib in d:\\kaim\\customer-experience-analytics-for-banking-apps\\env\\lib\\site-packages (3.10.3)\n",
      "Requirement already satisfied: contourpy>=1.0.1 in d:\\kaim\\customer-experience-analytics-for-banking-apps\\env\\lib\\site-packages (from matplotlib) (1.3.2)\n",
      "Requirement already satisfied: cycler>=0.10 in d:\\kaim\\customer-experience-analytics-for-banking-apps\\env\\lib\\site-packages (from matplotlib) (0.12.1)\n",
      "Requirement already satisfied: fonttools>=4.22.0 in d:\\kaim\\customer-experience-analytics-for-banking-apps\\env\\lib\\site-packages (from matplotlib) (4.58.2)\n",
      "Requirement already satisfied: kiwisolver>=1.3.1 in d:\\kaim\\customer-experience-analytics-for-banking-apps\\env\\lib\\site-packages (from matplotlib) (1.4.8)\n",
      "Requirement already satisfied: numpy>=1.23 in d:\\kaim\\customer-experience-analytics-for-banking-apps\\env\\lib\\site-packages (from matplotlib) (2.3.0)\n",
      "Requirement already satisfied: packaging>=20.0 in d:\\kaim\\customer-experience-analytics-for-banking-apps\\env\\lib\\site-packages (from matplotlib) (25.0)\n",
      "Requirement already satisfied: pillow>=8 in d:\\kaim\\customer-experience-analytics-for-banking-apps\\env\\lib\\site-packages (from matplotlib) (11.2.1)\n",
      "Requirement already satisfied: pyparsing>=2.3.1 in d:\\kaim\\customer-experience-analytics-for-banking-apps\\env\\lib\\site-packages (from matplotlib) (3.2.3)\n",
      "Requirement already satisfied: python-dateutil>=2.7 in d:\\kaim\\customer-experience-analytics-for-banking-apps\\env\\lib\\site-packages (from matplotlib) (2.9.0.post0)\n",
      "Requirement already satisfied: six>=1.5 in d:\\kaim\\customer-experience-analytics-for-banking-apps\\env\\lib\\site-packages (from python-dateutil>=2.7->matplotlib) (1.17.0)\n"
     ]
    }
   ],
   "source": [
    "!pip install pandas\n",
    "!pip install seaborn\n",
    "!pip install matplotlib"
   ]
  },
  {
   "cell_type": "code",
   "execution_count": 2,
   "id": "c0822b39",
   "metadata": {},
   "outputs": [
    {
     "ename": "ModuleNotFoundError",
     "evalue": "No module named 'scripts.preprocessing'",
     "output_type": "error",
     "traceback": [
      "\u001b[31m---------------------------------------------------------------------------\u001b[39m",
      "\u001b[31mModuleNotFoundError\u001b[39m                       Traceback (most recent call last)",
      "\u001b[36mCell\u001b[39m\u001b[36m \u001b[39m\u001b[32mIn[2]\u001b[39m\u001b[32m, line 12\u001b[39m\n\u001b[32m      9\u001b[39m \u001b[38;5;28;01mif\u001b[39;00m scripts_path \u001b[38;5;129;01mnot\u001b[39;00m \u001b[38;5;129;01min\u001b[39;00m sys.path:\n\u001b[32m     10\u001b[39m     sys.path.append(scripts_path)\n\u001b[32m---> \u001b[39m\u001b[32m12\u001b[39m \u001b[38;5;28;01mfrom\u001b[39;00m\u001b[38;5;250m \u001b[39m\u001b[34;01mscripts\u001b[39;00m\u001b[34;01m.\u001b[39;00m\u001b[34;01mpreprocessing\u001b[39;00m\u001b[38;5;250m \u001b[39m\u001b[38;5;28;01mimport\u001b[39;00m ReviewPreprocessor\n\u001b[32m     13\u001b[39m \u001b[38;5;28;01mfrom\u001b[39;00m\u001b[38;5;250m \u001b[39m\u001b[34;01mscripts\u001b[39;00m\u001b[34;01m.\u001b[39;00m\u001b[34;01mutils\u001b[39;00m\u001b[38;5;250m \u001b[39m\u001b[38;5;28;01mimport\u001b[39;00m CLEANED_DATA_DIR, APP_ID_TO_BANK_NAME, TODAY_DATE_STR\n",
      "\u001b[31mModuleNotFoundError\u001b[39m: No module named 'scripts.preprocessing'"
     ]
    }
   ],
   "source": [
    "import os\n",
    "import sys\n",
    "import pandas as pd\n",
    "import matplotlib.pyplot as plt\n",
    "import seaborn as sns\n",
    "\n",
    "# Add scripts path to sys.path\n",
    "scripts_path = os.path.abspath(os.path.join(os.getcwd(), '..', 'scripts'))\n",
    "if scripts_path not in sys.path:\n",
    "    sys.path.append(scripts_path)\n",
    "\n",
    "from scripts.preprocessing import ReviewPreprocessor\n",
    "from scripts.utils import CLEANED_DATA_DIR, APP_ID_TO_BANK_NAME, TODAY_DATE_STR"
   ]
  },
  {
   "cell_type": "markdown",
   "id": "c125b336",
   "metadata": {},
   "source": [
    "\n",
    "2. Set Paths and List Raw Files"
   ]
  },
  {
   "cell_type": "code",
   "execution_count": null,
   "id": "b4c40f8f",
   "metadata": {},
   "outputs": [],
   "source": [
    "RAW_DATA_DIR = os.path.abspath(os.path.join(os.getcwd(), '..', 'data', 'raw'))\n",
    "CLEANED_DATA_DIR = os.path.abspath(os.path.join(os.getcwd(), '..', 'data', 'cleaned'))\n",
    "\n",
    "os.makedirs(CLEANED_DATA_DIR, exist_ok=True)\n",
    "\n",
    "raw_files = [os.path.join(RAW_DATA_DIR, f) for f in os.listdir(RAW_DATA_DIR) if f.endswith('.csv')]\n",
    "print(\"Raw files found:\", raw_files)"
   ]
  },
  {
   "cell_type": "markdown",
   "id": "18674fd5",
   "metadata": {},
   "source": [
    "3. Preprocess Raw Data"
   ]
  },
  {
   "cell_type": "code",
   "execution_count": null,
   "id": "57646e75",
   "metadata": {},
   "outputs": [],
   "source": [
    "preprocessor = ReviewPreprocessor(\n",
    "    cleaned_data_dir=CLEANED_DATA_DIR,\n",
    "    app_id_to_bank_name=APP_ID_TO_BANK_NAME\n",
    ")\n",
    "\n",
    "combined_df = preprocessor.preprocess_batch(raw_files)"
   ]
  },
  {
   "cell_type": "markdown",
   "id": "2efa01dc",
   "metadata": {},
   "source": [
    "4. Load Cleaned Data"
   ]
  },
  {
   "cell_type": "code",
   "execution_count": null,
   "id": "e8b752d5",
   "metadata": {},
   "outputs": [],
   "source": [
    "# Load the combined cleaned CSV\n",
    "combined_cleaned_path = os.path.join(CLEANED_DATA_DIR, f'all_reviews_cleaned_{TODAY_DATE_STR}.csv')\n",
    "df = pd.read_csv(combined_cleaned_path)\n",
    "df.head()"
   ]
  },
  {
   "cell_type": "markdown",
   "id": "8bcebde7",
   "metadata": {},
   "source": [
    "5. Exploratory Data Analysis (EDA)\n",
    "5.1 Overview"
   ]
  },
  {
   "cell_type": "code",
   "execution_count": null,
   "id": "3a69cae6",
   "metadata": {},
   "outputs": [],
   "source": [
    "print(\"Shape:\", df.shape)\n",
    "print(\"Columns:\", df.columns.tolist())\n",
    "df.info()\n",
    "df.describe(include='all')"
   ]
  },
  {
   "cell_type": "markdown",
   "id": "56a698da",
   "metadata": {},
   "source": [
    "5.2 Missing Values"
   ]
  },
  {
   "cell_type": "code",
   "execution_count": null,
   "id": "66e0e49d",
   "metadata": {},
   "outputs": [],
   "source": [
    "df.isnull().sum()"
   ]
  },
  {
   "cell_type": "markdown",
   "id": "84bcc51c",
   "metadata": {},
   "source": [
    "5.3 Distribution of Ratings"
   ]
  },
  {
   "cell_type": "code",
   "execution_count": null,
   "id": "5770896d",
   "metadata": {},
   "outputs": [],
   "source": [
    "sns.countplot(data=df, y='bank_name', order=df['bank_name'].value_counts().index)\n",
    "plt.title('Number of Reviews per Bank')\n",
    "plt.show()"
   ]
  },
  {
   "cell_type": "markdown",
   "id": "9127ab12",
   "metadata": {},
   "source": [
    "5.4 Reviews per Bank"
   ]
  },
  {
   "cell_type": "code",
   "execution_count": null,
   "id": "c0101fef",
   "metadata": {},
   "outputs": [],
   "source": [
    "sns.countplot(data=df, y='bank_name', order=df['bank_name'].value_counts().index)\n",
    "plt.title('Number of Reviews per Bank')\n",
    "plt.show()"
   ]
  },
  {
   "cell_type": "markdown",
   "id": "098d0223",
   "metadata": {},
   "source": [
    "5.5 Review Length Distributio\n"
   ]
  },
  {
   "cell_type": "code",
   "execution_count": null,
   "id": "5def72a1",
   "metadata": {},
   "outputs": [],
   "source": [
    "df['review_length'] = df['review_text'].astype(str).apply(len)\n",
    "sns.histplot(df['review_length'], bins=30)\n",
    "plt.title('Distribution of Review Lengths')\n",
    "plt.xlabel('Review Length (characters)')\n",
    "plt.show()"
   ]
  },
  {
   "cell_type": "markdown",
   "id": "aea3897f",
   "metadata": {},
   "source": [
    "5.6 Ratings Over Time"
   ]
  },
  {
   "cell_type": "code",
   "execution_count": null,
   "id": "15da507c",
   "metadata": {},
   "outputs": [],
   "source": [
    "df['review_date'] = pd.to_datetime(df['review_date'], errors='coerce')\n",
    "df['year_month'] = df['review_date'].dt.to_period('M')\n",
    "sns.countplot(data=df, x='year_month', hue='bank_name')\n",
    "plt.title('Reviews Over Time by Bank')\n",
    "plt.xticks(rotation=45)\n",
    "plt.show()"
   ]
  },
  {
   "cell_type": "code",
   "execution_count": null,
   "id": "54c93437",
   "metadata": {},
   "outputs": [
    {
     "ename": "NameError",
     "evalue": "name 'df' is not defined",
     "output_type": "error",
     "traceback": [
      "\u001b[31m---------------------------------------------------------------------------\u001b[39m",
      "\u001b[31mNameError\u001b[39m                                 Traceback (most recent call last)",
      "\u001b[36mCell\u001b[39m\u001b[36m \u001b[39m\u001b[32mIn[1]\u001b[39m\u001b[32m, line 4\u001b[39m\n\u001b[32m      1\u001b[39m \u001b[38;5;66;03m# --- Data Cleaning: Remove duplicates, handle missing data, normalize dates, and select columns ---\u001b[39;00m\n\u001b[32m      2\u001b[39m \n\u001b[32m      3\u001b[39m \u001b[38;5;66;03m# Remove duplicates\u001b[39;00m\n\u001b[32m----> \u001b[39m\u001b[32m4\u001b[39m df = \u001b[43mdf\u001b[49m.drop_duplicates()\n\u001b[32m      6\u001b[39m \u001b[38;5;66;03m# Handle missing data: drop rows with missing essential fields\u001b[39;00m\n\u001b[32m      7\u001b[39m df = df.dropna(subset=[\u001b[33m'\u001b[39m\u001b[33mreview_text\u001b[39m\u001b[33m'\u001b[39m, \u001b[33m'\u001b[39m\u001b[33mrating\u001b[39m\u001b[33m'\u001b[39m, \u001b[33m'\u001b[39m\u001b[33mreview_date\u001b[39m\u001b[33m'\u001b[39m, \u001b[33m'\u001b[39m\u001b[33mbank_name\u001b[39m\u001b[33m'\u001b[39m, \u001b[33m'\u001b[39m\u001b[33msource\u001b[39m\u001b[33m'\u001b[39m])\n",
      "\u001b[31mNameError\u001b[39m: name 'df' is not defined"
     ]
    }
   ],
   "source": [
    "# --- Data Cleaning: Remove duplicates, handle missing data, normalize dates, and select columns ---\n",
    "\n",
    "# Remove duplicates\n",
    "df = df.drop_duplicates()\n",
    "\n",
    "# Handle missing data: drop rows with missing essential fields\n",
    "df = df.dropna(subset=['review_text', 'rating', 'review_date', 'bank_name', 'source'])\n",
    "\n",
    "# Normalize dates to YYYY-MM-DD\n",
    "df['review_date'] = pd.to_datetime(df['review_date'], errors='coerce').dt.strftime('%Y-%m-%d')\n",
    "\n",
    "# Rename columns to match the required output\n",
    "df = df.rename(columns={\n",
    "    'review_text': 'review',\n",
    "    'bank_name': 'bank',\n",
    "    # 'source' and 'rating' assumed to already match\n",
    "})\n",
    "\n",
    "# Select and reorder columns\n",
    "df = df[['review', 'rating', 'review_date', 'bank', 'source']]\n",
    "\n",
    "# Save cleaned combined CSV\n",
    "final_cleaned_path = os.path.join(CLEANED_DATA_DIR, f'all_reviews_cleaned_final_{TODAY_DATE_STR}.csv')\n",
    "df.to_csv(final_cleaned_path, index=False)\n",
    "print(f\"Final cleaned combined CSV saved to: {final_cleaned_path}\")\n",
    "\n",
    "# Save per-bank cleaned CSVs\n",
    "for bank in df['bank'].unique():\n",
    "    bank_df = df[df['bank'] == bank]\n",
    "    bank_path = os.path.join(CLEANED_DATA_DIR, f'{bank}_cleaned_{TODAY_DATE_STR}.csv')\n",
    "    bank_df.to_csv(bank_path, index=False)\n",
    "    print(f\"Cleaned CSV for {bank} saved to: {bank_path}\")\n",
    "\n",
    "df.head()"
   ]
  }
 ],
 "metadata": {
  "kernelspec": {
   "display_name": "Python 3",
   "language": "python",
   "name": "python3"
  },
  "language_info": {
   "codemirror_mode": {
    "name": "ipython",
    "version": 3
   },
   "file_extension": ".py",
   "mimetype": "text/x-python",
   "name": "python",
   "nbconvert_exporter": "python",
   "pygments_lexer": "ipython3",
   "version": "3.11.13"
  }
 },
 "nbformat": 4,
 "nbformat_minor": 5
}
