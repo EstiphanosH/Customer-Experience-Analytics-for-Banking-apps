{
 "cells": [
  {
   "cell_type": "markdown",
   "id": "37c8fe23",
   "metadata": {},
   "source": [
    "## Scrape banking apps:\n",
    "- Commercial Bank of Ethiopia\n",
    "- Bank of Abbysinia\n",
    "- Dashen Bank Superapp"
   ]
  },
  {
   "cell_type": "markdown",
   "id": "b451d4d2",
   "metadata": {},
   "source": [
    "# import necessary imports"
   ]
  },
  {
   "cell_type": "code",
   "execution_count": null,
   "id": "a58bc20d",
   "metadata": {
    "vscode": {
     "languageId": "plaintext"
    }
   },
   "outputs": [],
   "source": [
    "import sys\n",
    "import os\n",
    "import pandas as pd\n",
    "import glob\n",
    "from ipywidgets import Dropdown, SelectMultiple, interact, widgets, VBox, HBox, fixed\n",
    "from IPython.display import display\n",
    "import plotly.express as px\n",
    "\n",
    "# Add scripts path\n",
    "scripts_path = os.path.abspath(os.path.join(os.getcwd(), '..', 'scripts'))\n",
    "if scripts_path not in sys.path:\n",
    "    sys.path.append(scripts_path)\n",
    "from scripts.scraper import class GooglePlayReviewScraper\n",
    "  "
   ]
  },
  {
   "cell_type": "code",
   "execution_count": null,
   "id": "eed21961",
   "metadata": {
    "vscode": {
     "languageId": "plaintext"
    }
   },
   "outputs": [],
   "source": []
  },
  {
   "cell_type": "code",
   "execution_count": null,
   "id": "ec8e40d3",
   "metadata": {
    "vscode": {
     "languageId": "plaintext"
    }
   },
   "outputs": [],
   "source": [
    "# Define your variables (or import them if defined elsewhere)\n",
    "APP_IDS = ['com.example.app1', 'com.example.app2']\n",
    "APP_ID_TO_BANK_NAME = {\n",
    "    'com.example.app1': 'Bank One',\n",
    "    'com.example.app2': 'Bank Two',\n",
    "}\n",
    "RAW_DATA_DIR = './raw_reviews'\n",
    "TODAY_DATE_STR = '2025-06-07'\n",
    "\n",
    "# Instantiate the scraper\n",
    "scraper = GooglePlayReviewScraper(APP_IDS, APP_ID_TO_BANK_NAME, RAW_DATA_DIR, TODAY_DATE_STR)\n",
    "\n",
    "# Scrape all apps and get list of saved files\n",
    "saved_files = scraper.scrape_all()\n"
   ]
  }
 ],
 "metadata": {
  "language_info": {
   "name": "python"
  }
 },
 "nbformat": 4,
 "nbformat_minor": 5
}
