{
 "cells": [
  {
   "cell_type": "markdown",
   "id": "37c8fe23",
   "metadata": {},
   "source": [
    "## Scrape banking apps:\n",
    "- Commercial Bank of Ethiopia\n",
    "- Bank of Abbysinia\n",
    "- Dashen Bank Superapp"
   ]
  },
  {
   "cell_type": "markdown",
   "id": "56d974e1",
   "metadata": {},
   "source": [
    "# Scrape Reviews for Three Banking Apps\n",
    "\n",
    "This notebook demonstrates how to scrape Google Play reviews for three banking apps using the `GooglePlayReviewScraper` class from `scraper.py`, with app configuration in `utils.py`."
   ]
  },
  {
   "cell_type": "markdown",
   "id": "af3490d5",
   "metadata": {},
   "source": [
    "## 1. Import Required Libraries and Modules\n",
    "\n",
    "Import necessary libraries and modules, including the `GooglePlayReviewScraper` class from `scripts.scraper` and app configuration variables from `utils.py`."
   ]
  },
  {
   "cell_type": "code",
   "execution_count": 2,
   "id": "6e8b7d68",
   "metadata": {},
   "outputs": [
    {
     "ename": "ModuleNotFoundError",
     "evalue": "No module named 'pandas'",
     "output_type": "error",
     "traceback": [
      "\u001b[31m---------------------------------------------------------------------------\u001b[39m",
      "\u001b[31mModuleNotFoundError\u001b[39m                       Traceback (most recent call last)",
      "\u001b[36mCell\u001b[39m\u001b[36m \u001b[39m\u001b[32mIn[2]\u001b[39m\u001b[32m, line 3\u001b[39m\n\u001b[32m      1\u001b[39m \u001b[38;5;28;01mimport\u001b[39;00m\u001b[38;5;250m \u001b[39m\u001b[34;01mos\u001b[39;00m\n\u001b[32m      2\u001b[39m \u001b[38;5;28;01mimport\u001b[39;00m\u001b[38;5;250m \u001b[39m\u001b[34;01msys\u001b[39;00m\n\u001b[32m----> \u001b[39m\u001b[32m3\u001b[39m \u001b[38;5;28;01mimport\u001b[39;00m\u001b[38;5;250m \u001b[39m\u001b[34;01mpandas\u001b[39;00m\u001b[38;5;250m \u001b[39m\u001b[38;5;28;01mas\u001b[39;00m\u001b[38;5;250m \u001b[39m\u001b[34;01mpd\u001b[39;00m\n\u001b[32m      5\u001b[39m \u001b[38;5;66;03m# Add scripts path to sys.path\u001b[39;00m\n\u001b[32m      6\u001b[39m scripts_path = os.path.abspath(os.path.join(os.getcwd(), \u001b[33m'\u001b[39m\u001b[33m..\u001b[39m\u001b[33m'\u001b[39m, \u001b[33m'\u001b[39m\u001b[33mscripts\u001b[39m\u001b[33m'\u001b[39m))\n",
      "\u001b[31mModuleNotFoundError\u001b[39m: No module named 'pandas'"
     ]
    }
   ],
   "source": [
    "import os\n",
    "import sys\n",
    "import pandas as pd\n",
    "\n",
    "# Add scripts path to sys.path\n",
    "scripts_path = os.path.abspath(os.path.join(os.getcwd(), '..', 'scripts'))\n",
    "if scripts_path not in sys.path:\n",
    "    sys.path.append(scripts_path)\n",
    "\n",
    "# Import the GooglePlayReviewScraper class\n",
    "from scripts.scraper import GooglePlayReviewScraper\n",
    "\n",
    "# Import app configuration variables from utils.py\n",
    "from scripts.utils import APP_IDS, APP_ID_TO_BANK_NAME"
   ]
  },
  {
   "cell_type": "markdown",
   "id": "5d6645df",
   "metadata": {},
   "source": [
    "## 2. Define App IDs and Bank Name Mapping\n",
    "\n",
    "The `APP_IDS` list and `APP_ID_TO_BANK_NAME` dictionary should be defined in `utils.py` as follows:"
   ]
  },
  {
   "cell_type": "code",
   "execution_count": null,
   "id": "b490022a",
   "metadata": {},
   "outputs": [],
   "source": [
    "# Example content of utils.py\n",
    "\n",
    "APP_IDS = [\n",
    "    'com.combanketh.android',      # Commercial Bank of Ethiopia\n",
    "    'com.bankofabyssinia.mobile',  # Bank of Abyssinia\n",
    "    'com.dashenbank.app'           # Dashen Bank Superapp\n",
    "]\n",
    "\n",
    "APP_ID_TO_BANK_NAME = {\n",
    "    'com.combanketh.android': 'Commercial Bank of Ethiopia',\n",
    "    'com.bankofabyssinia.mobile': 'Bank of Abyssinia',\n",
    "    'com.dashenbank.app': 'Dashen Bank Superapp'\n",
    "}"
   ]
  },
  {
   "cell_type": "markdown",
   "id": "d058576c",
   "metadata": {},
   "source": [
    "## 3. Set Output Directory and Date\n",
    "\n",
    "Specify the directory to save the scraped reviews and define the current date string for timestamping."
   ]
  },
  {
   "cell_type": "code",
   "execution_count": null,
   "id": "96c8b968",
   "metadata": {},
   "outputs": [],
   "source": [
    "from datetime import datetime\n",
    "\n",
    "RAW_DATA_DIR = os.path.join(os.getcwd(), 'raw_reviews')\n",
    "os.makedirs(RAW_DATA_DIR, exist_ok=True)\n",
    "\n",
    "TODAY_DATE_STR = datetime.today().strftime('%Y-%m-%d')"
   ]
  },
  {
   "cell_type": "markdown",
   "id": "6e67b208",
   "metadata": {},
   "source": [
    "## 4. Instantiate the GooglePlayReviewScraper\n",
    "\n",
    "Create an instance of the `GooglePlayReviewScraper` using the imported configuration variables."
   ]
  },
  {
   "cell_type": "code",
   "execution_count": null,
   "id": "4731cca1",
   "metadata": {},
   "outputs": [],
   "source": [
    "scraper = GooglePlayReviewScraper(\n",
    "    app_ids=APP_IDS,\n",
    "    app_id_to_bank_name=APP_ID_TO_BANK_NAME,\n",
    "    raw_data_dir=RAW_DATA_DIR,\n",
    "    today_date_str=TODAY_DATE_STR\n",
    ")"
   ]
  },
  {
   "cell_type": "markdown",
   "id": "db3bb74d",
   "metadata": {},
   "source": [
    "## 5. Scrape Reviews for All Apps\n",
    "\n",
    "Call the `scrape_all()` method to scrape reviews for all three apps and save the results."
   ]
  },
  {
   "cell_type": "code",
   "execution_count": null,
   "id": "c15749e9",
   "metadata": {},
   "outputs": [],
   "source": [
    "saved_files = scraper.scrape_all()\n",
    "print(\"Scraping completed. Files saved:\")\n",
    "for f in saved_files:\n",
    "    print(f)"
   ]
  },
  {
   "cell_type": "markdown",
   "id": "a5431060",
   "metadata": {},
   "source": [
    "## 6. Display Scraping Results\n",
    "\n",
    "Display the list of saved files and preview the scraped data for one of the apps."
   ]
  },
  {
   "cell_type": "code",
   "execution_count": null,
   "id": "eb2a522a",
   "metadata": {},
   "outputs": [],
   "source": [
    "# Preview the first scraped file (if available)\n",
    "if saved_files:\n",
    "    df = pd.read_csv(saved_files[0])\n",
    "    display(df.head())\n",
    "else:\n",
    "    print(\"No files found.\")"
   ]
  }
 ],
 "metadata": {
  "kernelspec": {
   "display_name": "Python 3",
   "language": "python",
   "name": "python3"
  },
  "language_info": {
   "codemirror_mode": {
    "name": "ipython",
    "version": 3
   },
   "file_extension": ".py",
   "mimetype": "text/x-python",
   "name": "python",
   "nbconvert_exporter": "python",
   "pygments_lexer": "ipython3",
   "version": "3.11.13"
  }
 },
 "nbformat": 4,
 "nbformat_minor": 5
}
